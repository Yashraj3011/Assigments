{
 "cells": [
  {
   "cell_type": "code",
   "execution_count": 50,
   "id": "c60df00b",
   "metadata": {},
   "outputs": [
    {
     "data": {
      "text/plain": [
       "'Python is a high-level, easy-to-learn programming language known for its simple syntax and versatility. It’s popular because it’s beginner-friendly, has powerful libraries, works across multiple fields like web development, data science, and AI, and enjoys strong community support.'"
      ]
     },
     "execution_count": 50,
     "metadata": {},
     "output_type": "execute_result"
    }
   ],
   "source": [
    "# What is Python, and why is it popular ?\n",
    "\n",
    "'''Python is a high-level, easy-to-learn programming language known for its simple syntax and versatility. It’s popular because it’s beginner-friendly, has powerful libraries, works across multiple fields like web development, data science, and AI, and enjoys strong community support.'''"
   ]
  },
  {
   "cell_type": "code",
   "execution_count": 2,
   "id": "f0d2504f",
   "metadata": {},
   "outputs": [
    {
     "data": {
      "text/plain": [
       "'An interpreter in Python is the program that reads and executes Python code line by line. Unlike a compiler, it doesn’t convert the whole code into machine language at once—instead, it runs each line directly, making Python easier to test and debug.'"
      ]
     },
     "execution_count": 2,
     "metadata": {},
     "output_type": "execute_result"
    }
   ],
   "source": [
    "# What is an interpreter in Python ?\n",
    "\n",
    "'''An interpreter in Python is the program that reads and executes Python code line by line. Unlike a compiler, it doesn’t convert the whole code into machine language at once—instead, it runs each line directly, making Python easier to test and debug.'''"
   ]
  },
  {
   "cell_type": "code",
   "execution_count": 3,
   "id": "648136b5",
   "metadata": {},
   "outputs": [
    {
     "data": {
      "text/plain": [
       "'Pre-defined keywords in Python are reserved words that have special meaning to the Python interpreter. You can’t use them as variable names, function names, or identifiers because Python uses them to define its syntax and structure.'"
      ]
     },
     "execution_count": 3,
     "metadata": {},
     "output_type": "execute_result"
    }
   ],
   "source": [
    "# What are pre-defined keywords in Python ?\n",
    "'''Pre-defined keywords in Python are reserved words that have special meaning to the Python interpreter. You can’t use them as variable names, function names, or identifiers because Python uses them to define its syntax and structure.'''"
   ]
  },
  {
   "cell_type": "code",
   "execution_count": 4,
   "id": "7b2245c7",
   "metadata": {},
   "outputs": [
    {
     "data": {
      "text/plain": [
       "'No keywords cannot be used as variable names in Python because they are reserved words with special meaning for the interpreter.'"
      ]
     },
     "execution_count": 4,
     "metadata": {},
     "output_type": "execute_result"
    }
   ],
   "source": [
    "# Can keywords be used as variable names ?\n",
    "'''No keywords cannot be used as variable names in Python because they are reserved words with special meaning for the interpreter.'''"
   ]
  },
  {
   "cell_type": "code",
   "execution_count": 5,
   "id": "7f5c13c5",
   "metadata": {},
   "outputs": [
    {
     "data": {
      "text/plain": [
       "'Mutability in Python simply means whether you can change the value of an object after it’s created. For example, lists can be changed (mutable), but strings cannot (immutable).'"
      ]
     },
     "execution_count": 5,
     "metadata": {},
     "output_type": "execute_result"
    }
   ],
   "source": [
    "# What is mutability in Python ?\n",
    "'''Mutability in Python simply means whether you can change the value of an object after it’s created. For example, lists can be changed (mutable), but strings cannot (immutable).'''"
   ]
  },
  {
   "cell_type": "code",
   "execution_count": 6,
   "id": "bbd1b0b4",
   "metadata": {},
   "outputs": [
    {
     "data": {
      "text/plain": [
       "'Lists are mutable because they’re designed for situations where you may need to change, add, or remove elements after creating them. They give flexibility for dynamic operations. Tuples are immutable because they’re meant to store fixed collections of items that shouldn’t change. This immutability makes them faster, memory-efficient, and safe to use as dictionary keys or in sets.'"
      ]
     },
     "execution_count": 6,
     "metadata": {},
     "output_type": "execute_result"
    }
   ],
   "source": [
    "# Why are lists mutable, but tuples are immutable ?\n",
    "'''Lists are mutable because they’re designed for situations where you may need to change, add, or remove elements after creating them. They give flexibility for dynamic operations. Tuples are immutable because they’re meant to store fixed collections of items that shouldn’t change. This immutability makes them faster, memory-efficient, and safe to use as dictionary keys or in sets.'''"
   ]
  },
  {
   "cell_type": "code",
   "execution_count": 7,
   "id": "8b66691f",
   "metadata": {},
   "outputs": [
    {
     "data": {
      "text/plain": [
       "\"== checks if two things have the same value, while 'is' checks if they are actually the exact same object in memory.\""
      ]
     },
     "execution_count": 7,
     "metadata": {},
     "output_type": "execute_result"
    }
   ],
   "source": [
    "# What is the difference between “==” and “is” operators in Python ?\n",
    "'''== checks if two things have the same value, while 'is' checks if they are actually the exact same object in memory.'''"
   ]
  },
  {
   "cell_type": "code",
   "execution_count": 8,
   "id": "1499c279",
   "metadata": {},
   "outputs": [
    {
     "data": {
      "text/plain": [
       "\"Logical operators in Python are used to make decisions with conditions. They are 'and', 'or', 'not'.\""
      ]
     },
     "execution_count": 8,
     "metadata": {},
     "output_type": "execute_result"
    }
   ],
   "source": [
    "# What are logical operators in Python ?\n",
    "'''Logical operators in Python are used to make decisions with conditions. They are 'and', 'or', 'not'.'''"
   ]
  },
  {
   "cell_type": "code",
   "execution_count": 9,
   "id": "cf7c534f",
   "metadata": {},
   "outputs": [
    {
     "data": {
      "text/plain": [
       "'Type casting in Python means changing a value from one data type to another.'"
      ]
     },
     "execution_count": 9,
     "metadata": {},
     "output_type": "execute_result"
    }
   ],
   "source": [
    "# What is type casting in Python ?\n",
    "\n",
    "'''Type casting in Python means changing a value from one data type to another.'''"
   ]
  },
  {
   "cell_type": "code",
   "execution_count": 10,
   "id": "11e2e1c0",
   "metadata": {},
   "outputs": [
    {
     "data": {
      "text/plain": [
       "'Implicit type casting happens automatically when Python converts one type to another, while explicit type casting is done manually by the programmer using functions like int(), float(), or str().'"
      ]
     },
     "execution_count": 10,
     "metadata": {},
     "output_type": "execute_result"
    }
   ],
   "source": [
    "# What is the difference between implicit and explicit type casting ?\n",
    "'''Implicit type casting happens automatically when Python converts one type to another, while explicit type casting is done manually by the programmer using functions like int(), float(), or str().'''"
   ]
  },
  {
   "cell_type": "code",
   "execution_count": 11,
   "id": "cfa63efe",
   "metadata": {},
   "outputs": [
    {
     "data": {
      "text/plain": [
       "'The purpose of conditional statements in Python is to make decisions in a program. They let the code run certain parts only if a condition is true, and skip or run something else if it’s false.'"
      ]
     },
     "execution_count": 11,
     "metadata": {},
     "output_type": "execute_result"
    }
   ],
   "source": [
    "# What is the purpose of conditional statements in Python ?\n",
    "'''The purpose of conditional statements in Python is to make decisions in a program. They let the code run certain parts only if a condition is true, and skip or run something else if it’s false.'''"
   ]
  },
  {
   "cell_type": "code",
   "execution_count": 12,
   "id": "b6f11ba4",
   "metadata": {},
   "outputs": [
    {
     "data": {
      "text/plain": [
       "'The elif statement is used when you have more than one condition to check. If the first if is false, Python checks the elif. If that’s true, it runs that block; otherwise, it keeps checking further conditions or goes to else.'"
      ]
     },
     "execution_count": 12,
     "metadata": {},
     "output_type": "execute_result"
    }
   ],
   "source": [
    "# How does the elif statement work ?\n",
    "'''The elif statement is used when you have more than one condition to check. If the first if is false, Python checks the elif. If that’s true, it runs that block; otherwise, it keeps checking further conditions or goes to else.'''"
   ]
  },
  {
   "cell_type": "code",
   "execution_count": 13,
   "id": "da25adb9",
   "metadata": {},
   "outputs": [
    {
     "data": {
      "text/plain": [
       "'A for loop repeats a block of code a set number of times, while a while loop keeps repeating as long as a condition is true.'"
      ]
     },
     "execution_count": 13,
     "metadata": {},
     "output_type": "execute_result"
    }
   ],
   "source": [
    "# What is the difference between for and while loops ?\n",
    "'''A for loop repeats a block of code a set number of times, while a while loop keeps repeating as long as a condition is true.'''"
   ]
  },
  {
   "cell_type": "code",
   "execution_count": 14,
   "id": "925e34b1",
   "metadata": {},
   "outputs": [
    {
     "data": {
      "text/plain": [
       "'A while loop is better when you don’t know how many times something will happen. For example, asking a user to enter a password until it’s correct.'"
      ]
     },
     "execution_count": 14,
     "metadata": {},
     "output_type": "execute_result"
    }
   ],
   "source": [
    "# Describe a scenario where a while loop is more suitable than a for loop.\n",
    "'''A while loop is better when you don’t know how many times something will happen. For example, asking a user to enter a password until it’s correct.'''"
   ]
  },
  {
   "cell_type": "code",
   "execution_count": 15,
   "id": "e043c2b9",
   "metadata": {},
   "outputs": [],
   "source": [
    "### Practical Question ###"
   ]
  },
  {
   "cell_type": "code",
   "execution_count": 16,
   "id": "7b88fc72",
   "metadata": {},
   "outputs": [],
   "source": [
    "# 1. Write a Python program to print \"Hello, World!\""
   ]
  },
  {
   "cell_type": "code",
   "execution_count": 17,
   "id": "7195a43a",
   "metadata": {},
   "outputs": [
    {
     "name": "stdout",
     "output_type": "stream",
     "text": [
      "Hello, World!\n"
     ]
    }
   ],
   "source": [
    "print(\"Hello, World!\")"
   ]
  },
  {
   "cell_type": "code",
   "execution_count": 18,
   "id": "338cddbe",
   "metadata": {},
   "outputs": [],
   "source": [
    "# 2. Write a Python program that displays your name and age."
   ]
  },
  {
   "cell_type": "code",
   "execution_count": 19,
   "id": "b173ab33",
   "metadata": {},
   "outputs": [
    {
     "name": "stdout",
     "output_type": "stream",
     "text": [
      "My name is Yashraj\n",
      "My age is 22\n"
     ]
    }
   ],
   "source": [
    "name = \"Yashraj\"\n",
    "age = 22\n",
    "\n",
    "print(\"My name is\", name)\n",
    "print(\"My age is\", age)"
   ]
  },
  {
   "cell_type": "code",
   "execution_count": 20,
   "id": "2cfc43c0",
   "metadata": {},
   "outputs": [],
   "source": [
    "# 3. Write code to print all the pre-defined keywords in Python using the keyword library."
   ]
  },
  {
   "cell_type": "code",
   "execution_count": 21,
   "id": "4bd5ac2e",
   "metadata": {},
   "outputs": [
    {
     "name": "stdout",
     "output_type": "stream",
     "text": [
      "['False', 'None', 'True', '__peg_parser__', 'and', 'as', 'assert', 'async', 'await', 'break', 'class', 'continue', 'def', 'del', 'elif', 'else', 'except', 'finally', 'for', 'from', 'global', 'if', 'import', 'in', 'is', 'lambda', 'nonlocal', 'not', 'or', 'pass', 'raise', 'return', 'try', 'while', 'with', 'yield']\n"
     ]
    }
   ],
   "source": [
    "import keyword\n",
    "\n",
    "\n",
    "print(keyword.kwlist)"
   ]
  },
  {
   "cell_type": "code",
   "execution_count": 22,
   "id": "55fb0a22",
   "metadata": {},
   "outputs": [],
   "source": [
    "# 4. Write a program that checks if a given word is a Python keyword."
   ]
  },
  {
   "cell_type": "code",
   "execution_count": 23,
   "id": "836fa97c",
   "metadata": {},
   "outputs": [
    {
     "name": "stdout",
     "output_type": "stream",
     "text": [
      "Enter a word: fo\n",
      "False\n"
     ]
    }
   ],
   "source": [
    "import keyword\n",
    "\n",
    "word = input(\"Enter a word: \")\n",
    "print(keyword.iskeyword(word))"
   ]
  },
  {
   "cell_type": "code",
   "execution_count": 24,
   "id": "43a91e5b",
   "metadata": {},
   "outputs": [],
   "source": [
    "# 5. Create a list and tuple in Python, and demonstrate how attempting to change an element works differently for each."
   ]
  },
  {
   "cell_type": "code",
   "execution_count": 27,
   "id": "08435284",
   "metadata": {},
   "outputs": [
    {
     "name": "stdout",
     "output_type": "stream",
     "text": [
      "[10, 2, 3]\n"
     ]
    },
    {
     "ename": "TypeError",
     "evalue": "'tuple' object does not support item assignment",
     "output_type": "error",
     "traceback": [
      "\u001b[0;31m---------------------------------------------------------------------------\u001b[0m",
      "\u001b[0;31mTypeError\u001b[0m                                 Traceback (most recent call last)",
      "\u001b[0;32m/var/folders/nl/b5zm1xyj25s09bstlwqgdjf40000gn/T/ipykernel_18129/1939966529.py\u001b[0m in \u001b[0;36m<module>\u001b[0;34m\u001b[0m\n\u001b[1;32m      6\u001b[0m \u001b[0;31m# Tuple (immutable)\u001b[0m\u001b[0;34m\u001b[0m\u001b[0;34m\u001b[0m\u001b[0m\n\u001b[1;32m      7\u001b[0m \u001b[0mmy_tuple\u001b[0m \u001b[0;34m=\u001b[0m \u001b[0;34m(\u001b[0m\u001b[0;36m1\u001b[0m\u001b[0;34m,\u001b[0m \u001b[0;36m2\u001b[0m\u001b[0;34m,\u001b[0m \u001b[0;36m3\u001b[0m\u001b[0;34m)\u001b[0m\u001b[0;34m\u001b[0m\u001b[0;34m\u001b[0m\u001b[0m\n\u001b[0;32m----> 8\u001b[0;31m \u001b[0mmy_tuple\u001b[0m\u001b[0;34m[\u001b[0m\u001b[0;36m0\u001b[0m\u001b[0;34m]\u001b[0m \u001b[0;34m=\u001b[0m \u001b[0;36m10\u001b[0m\u001b[0;34m\u001b[0m\u001b[0;34m\u001b[0m\u001b[0m\n\u001b[0m\u001b[1;32m      9\u001b[0m \u001b[0mprint\u001b[0m\u001b[0;34m(\u001b[0m\u001b[0mmy_tuple\u001b[0m\u001b[0;34m)\u001b[0m\u001b[0;34m\u001b[0m\u001b[0;34m\u001b[0m\u001b[0m\n",
      "\u001b[0;31mTypeError\u001b[0m: 'tuple' object does not support item assignment"
     ]
    }
   ],
   "source": [
    "# List (mutable)\n",
    "my_list = [1, 2, 3]\n",
    "my_list[0] = 10\n",
    "print(my_list)  \n",
    "\n",
    "# Tuple (immutable)\n",
    "my_tuple = (1, 2, 3)\n",
    "my_tuple[0] = 10  \n",
    "print(my_tuple)  \n"
   ]
  },
  {
   "cell_type": "code",
   "execution_count": 28,
   "id": "2355c2bf",
   "metadata": {},
   "outputs": [],
   "source": [
    "# 6. Write a function to demonstrate the behavior of mutable and immutable arguments."
   ]
  },
  {
   "cell_type": "code",
   "execution_count": 29,
   "id": "e7cddc87",
   "metadata": {},
   "outputs": [
    {
     "name": "stdout",
     "output_type": "stream",
     "text": [
      "Inside function: [1, 2, 3, 4] 15\n",
      "Outside function: [1, 2, 3, 4] 10\n"
     ]
    }
   ],
   "source": [
    "def modify(list_arg, num_arg):\n",
    "    list_arg.append(4)   # mutable change\n",
    "    num_arg += 5         # immutable change\n",
    "    print(\"Inside function:\", list_arg, num_arg)\n",
    "\n",
    "my_list = [1, 2, 3]\n",
    "my_num = 10\n",
    "\n",
    "modify(my_list, my_num)\n",
    "\n",
    "print(\"Outside function:\", my_list, my_num)\n"
   ]
  },
  {
   "cell_type": "code",
   "execution_count": 30,
   "id": "69a322ff",
   "metadata": {},
   "outputs": [],
   "source": [
    "# 7. Write a program that performs basic arithmetic operations on two user-input numbers."
   ]
  },
  {
   "cell_type": "code",
   "execution_count": 33,
   "id": "431431da",
   "metadata": {},
   "outputs": [
    {
     "name": "stdout",
     "output_type": "stream",
     "text": [
      "Enter first number: 3.4\n",
      "Enter second number: 3.6\n",
      "Addition: 7.0\n",
      "Subtraction: -0.20000000000000018\n",
      "Multiplication: 12.24\n",
      "Division: 0.9444444444444444\n",
      "Modulus: 3.4\n"
     ]
    }
   ],
   "source": [
    "num1 = float(input(\"Enter first number: \"))\n",
    "num2 = float(input(\"Enter second number: \"))\n",
    "\n",
    "# Performing arithmetic operations\n",
    "print(\"Addition:\", num1 + num2)\n",
    "print(\"Subtraction:\", num1 - num2)\n",
    "print(\"Multiplication:\", num1 * num2)\n",
    "print(\"Division:\", num1 / num2)\n",
    "print(\"Modulus:\", num1 % num2)\n"
   ]
  },
  {
   "cell_type": "code",
   "execution_count": 34,
   "id": "89f22790",
   "metadata": {},
   "outputs": [],
   "source": [
    "# 8. Write a program to demonstrate the use of logical operators."
   ]
  },
  {
   "cell_type": "code",
   "execution_count": 35,
   "id": "683d6ca9",
   "metadata": {},
   "outputs": [
    {
     "name": "stdout",
     "output_type": "stream",
     "text": [
      "Enter a number: 4\n",
      "x > 0 and x < 10: True\n",
      "x < 0 or x > 10: False\n",
      "not(x > 0): False\n"
     ]
    }
   ],
   "source": [
    "x = int(input(\"Enter a number: \"))\n",
    "\n",
    "# Using logical operators\n",
    "print(\"x > 0 and x < 10:\", x > 0 and x < 10)  # True if x is between 1 and 9\n",
    "print(\"x < 0 or x > 10:\", x < 0 or x > 10)    # True if x is less than 0 or greater than 10\n",
    "print(\"not(x > 0):\", not(x > 0))              # True if x is not greater than 0\n"
   ]
  },
  {
   "cell_type": "code",
   "execution_count": 36,
   "id": "508fbaae",
   "metadata": {},
   "outputs": [],
   "source": [
    "# 9. Write a Python program to convert user input from string to integer, float, and boolean types."
   ]
  },
  {
   "cell_type": "code",
   "execution_count": 37,
   "id": "bbe39ab9",
   "metadata": {},
   "outputs": [
    {
     "name": "stdout",
     "output_type": "stream",
     "text": [
      "Enter something: 43\n",
      "Integer: 43\n",
      "Float: 43.0\n",
      "Boolean: True\n"
     ]
    }
   ],
   "source": [
    "user_input = input(\"Enter something: \")\n",
    "\n",
    "# Converting to integer\n",
    "int_value = int(user_input)\n",
    "print(\"Integer:\", int_value)\n",
    "\n",
    "# Converting to float\n",
    "float_value = float(user_input)\n",
    "print(\"Float:\", float_value)\n",
    "\n",
    "# Converting to boolean\n",
    "bool_value = bool(user_input)\n",
    "print(\"Boolean:\", bool_value)\n"
   ]
  },
  {
   "cell_type": "code",
   "execution_count": 38,
   "id": "d5a24a20",
   "metadata": {},
   "outputs": [],
   "source": [
    "# 10. Write code to demonstrate type casting with list elements."
   ]
  },
  {
   "cell_type": "code",
   "execution_count": 39,
   "id": "7790b1a4",
   "metadata": {},
   "outputs": [
    {
     "name": "stdout",
     "output_type": "stream",
     "text": [
      "Original list (strings): ['1', '2', '3', '4']\n",
      "Converted to integers: [1, 2, 3, 4]\n",
      "Converted to floats: [1.0, 2.0, 3.0, 4.0]\n"
     ]
    }
   ],
   "source": [
    "# Original list of strings\n",
    "str_list = [\"1\", \"2\", \"3\", \"4\"]\n",
    "\n",
    "# Convert each element to integer\n",
    "int_list = [int(x) for x in str_list]\n",
    "\n",
    "# Convert each element to float\n",
    "float_list = [float(x) for x in str_list]\n",
    "\n",
    "print(\"Original list (strings):\", str_list)\n",
    "print(\"Converted to integers:\", int_list)\n",
    "print(\"Converted to floats:\", float_list)\n"
   ]
  },
  {
   "cell_type": "code",
   "execution_count": 40,
   "id": "caa85644",
   "metadata": {},
   "outputs": [],
   "source": [
    "# 11. Write a program that checks if a number is positive, negative, or zero."
   ]
  },
  {
   "cell_type": "code",
   "execution_count": null,
   "id": "581bef16",
   "metadata": {},
   "outputs": [],
   "source": [
    "# Input from user\n",
    "num = float(input(\"Enter a number: \"))\n",
    "\n",
    "# Check the number\n",
    "if num > 0:\n",
    "    print(\"The number is positive.\")\n",
    "elif num < 0:\n",
    "    print(\"The number is negative.\")\n",
    "else:\n",
    "    print(\"The number is zero.\")\n"
   ]
  },
  {
   "cell_type": "code",
   "execution_count": null,
   "id": "7a81f14d",
   "metadata": {},
   "outputs": [],
   "source": [
    "# 12. Write a for loop to print numbers from 1 to 10."
   ]
  },
  {
   "cell_type": "code",
   "execution_count": null,
   "id": "a4fa3dec",
   "metadata": {},
   "outputs": [],
   "source": [
    "for i in range(1, 11):\n",
    "    print(i)\n"
   ]
  },
  {
   "cell_type": "code",
   "execution_count": null,
   "id": "82a183dd",
   "metadata": {},
   "outputs": [],
   "source": [
    "# 13. Write a Python program to find the sum of all even numbers between 1 and 50."
   ]
  },
  {
   "cell_type": "code",
   "execution_count": null,
   "id": "3ce4f454",
   "metadata": {},
   "outputs": [],
   "source": [
    "total = 0\n",
    "for i in range(2, 51, 2):  # Loop through even numbers only\n",
    "    total += i\n",
    "print(total)\n"
   ]
  },
  {
   "cell_type": "code",
   "execution_count": null,
   "id": "52be26c5",
   "metadata": {},
   "outputs": [],
   "source": [
    "# 14. Write a program to reverse a string using a while loop."
   ]
  },
  {
   "cell_type": "code",
   "execution_count": null,
   "id": "495eef56",
   "metadata": {},
   "outputs": [],
   "source": [
    "string = input(\"Enter a string: \")\n",
    "\n",
    "# Initialize variables\n",
    "reversed_string = \"\"\n",
    "index = len(string) - 1\n",
    "\n",
    "# Reverse using while loop\n",
    "while index >= 0:\n",
    "    reversed_string += string[index]\n",
    "    index -= 1\n",
    "\n",
    "print(\"Reversed string:\", reversed_string)\n"
   ]
  },
  {
   "cell_type": "code",
   "execution_count": null,
   "id": "89a2ea9e",
   "metadata": {},
   "outputs": [],
   "source": [
    "# 15. Write a Python program to calculate the factorial of a number provided by the user using a while loop."
   ]
  },
  {
   "cell_type": "code",
   "execution_count": null,
   "id": "1be5f382",
   "metadata": {},
   "outputs": [],
   "source": [
    "num = int(input(\"Enter a number: \"))\n",
    "\n",
    "factorial = 1\n",
    "i = 1\n",
    "\n",
    "while i <= num:\n",
    "    factorial *= i\n",
    "    i += 1\n",
    "\n",
    "print(f\"Factorial of {num} is {factorial}\")\n"
   ]
  },
  {
   "cell_type": "code",
   "execution_count": null,
   "id": "a107a40b",
   "metadata": {},
   "outputs": [],
   "source": []
  }
 ],
 "metadata": {
  "kernelspec": {
   "display_name": "Python 3 (ipykernel)",
   "language": "python",
   "name": "python3"
  },
  "language_info": {
   "codemirror_mode": {
    "name": "ipython",
    "version": 3
   },
   "file_extension": ".py",
   "mimetype": "text/x-python",
   "name": "python",
   "nbconvert_exporter": "python",
   "pygments_lexer": "ipython3",
   "version": "3.9.13"
  }
 },
 "nbformat": 4,
 "nbformat_minor": 5
}
